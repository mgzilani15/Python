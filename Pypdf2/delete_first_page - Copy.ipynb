{
 "cells": [
  {
   "cell_type": "code",
   "execution_count": 2,
   "metadata": {},
   "outputs": [],
   "source": [
    "# Library\n",
    "\n",
    "import PyPDF2 \n",
    "from PyPDF2 import PdfFileReader, PdfFileWriter\n",
    "import glob\n",
    "import os, sys"
   ]
  },
  {
   "cell_type": "code",
   "execution_count": 3,
   "metadata": {},
   "outputs": [],
   "source": [
    "# read one pdf file\n",
    "\n",
    "read_file=open('pdf3.pdf','rb')"
   ]
  },
  {
   "cell_type": "code",
   "execution_count": null,
   "metadata": {},
   "outputs": [],
   "source": [
    "read_file"
   ]
  },
  {
   "cell_type": "code",
   "execution_count": 4,
   "metadata": {},
   "outputs": [
    {
     "name": "stdout",
     "output_type": "stream",
     "text": [
      "10\n"
     ]
    }
   ],
   "source": [
    "# get the number of pages from the file\n",
    "\n",
    "this_file=PdfFileReader(read_file)\n",
    "how_many_pages=this_file.getNumPages()\n",
    "print(how_many_pages)"
   ]
  },
  {
   "cell_type": "code",
   "execution_count": null,
   "metadata": {},
   "outputs": [],
   "source": []
  },
  {
   "cell_type": "code",
   "execution_count": 5,
   "metadata": {},
   "outputs": [],
   "source": [
    "# get all the pdf file from the directory and put the name in a variable\n",
    "\n",
    "pdfs=glob.glob('*.pdf')"
   ]
  },
  {
   "cell_type": "code",
   "execution_count": 6,
   "metadata": {},
   "outputs": [
    {
     "name": "stdout",
     "output_type": "stream",
     "text": [
      "['pdf1.pdf', 'pdf2.pdf', 'pdf3.pdf']\n"
     ]
    }
   ],
   "source": [
    "print(pdfs)"
   ]
  },
  {
   "cell_type": "code",
   "execution_count": 7,
   "metadata": {},
   "outputs": [
    {
     "name": "stdout",
     "output_type": "stream",
     "text": [
      "name: pdf1.pdf\n",
      "document has 2 pages \n",
      "\n",
      "added page 1 \n",
      "\n",
      "name: pdf2.pdf\n",
      "document has 5 pages \n",
      "\n",
      "added page 1 \n",
      "\n",
      "added page 2 \n",
      "\n",
      "added page 3 \n",
      "\n",
      "added page 4 \n",
      "\n",
      "name: pdf3.pdf\n",
      "document has 10 pages \n",
      "\n",
      "added page 1 \n",
      "\n",
      "added page 2 \n",
      "\n",
      "added page 3 \n",
      "\n",
      "added page 4 \n",
      "\n",
      "added page 5 \n",
      "\n",
      "added page 6 \n",
      "\n",
      "added page 7 \n",
      "\n",
      "added page 8 \n",
      "\n",
      "added page 9 \n",
      "\n"
     ]
    }
   ],
   "source": [
    "# delete the first page from each pdf and write into a new file\n",
    "\n",
    "from PyPDF2 import PdfFileWriter, PdfFileReader\n",
    "\n",
    "import os, sys\n",
    "\n",
    "#directory_name = 'Zilani'\n",
    "#pdfs=glob.glob('*.pdf')\n",
    "\n",
    "for filename in pdfs:\n",
    "    print ('name: %s' % filename)\n",
    "\n",
    "    output_file = PdfFileWriter()\n",
    "    input_handle = open(filename, 'rb')\n",
    "    input_file = PdfFileReader(input_handle)\n",
    "\n",
    "    num_pages = input_file.getNumPages()\n",
    "\n",
    "    print (\"document has %s pages \\n\" % num_pages)\n",
    "\n",
    "    for i in range(1, num_pages):\n",
    "        output_file.addPage(input_file.getPage(i))\n",
    "        print ('added page %s \\n' % i)\n",
    "\n",
    "    output_stream = open(filename+'_1.pdf','wb')\n",
    "    output_file.write(output_stream)\n",
    "\n",
    "    output_stream.close()\n",
    "    input_handle.close()"
   ]
  },
  {
   "cell_type": "code",
   "execution_count": null,
   "metadata": {},
   "outputs": [],
   "source": []
  }
 ],
 "metadata": {
  "kernelspec": {
   "display_name": "Python 3",
   "language": "python",
   "name": "python3"
  },
  "language_info": {
   "codemirror_mode": {
    "name": "ipython",
    "version": 3
   },
   "file_extension": ".py",
   "mimetype": "text/x-python",
   "name": "python",
   "nbconvert_exporter": "python",
   "pygments_lexer": "ipython3",
   "version": "3.8.3"
  }
 },
 "nbformat": 4,
 "nbformat_minor": 4
}
