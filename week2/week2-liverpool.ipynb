{
 "cells": [
  {
   "cell_type": "markdown",
   "metadata": {},
   "source": [
    "## if else statement"
   ]
  },
  {
   "cell_type": "code",
   "execution_count": 3,
   "metadata": {},
   "outputs": [
    {
     "name": "stdout",
     "output_type": "stream",
     "text": [
      "not greater\n"
     ]
    }
   ],
   "source": [
    "score1 = 40\n",
    "score2 = 45\n",
    "if(score1 + score2 > 100):\n",
    "    print(\"Invalid score. Please check the input.\")\n",
    "    \n",
    "else:\n",
    "    print(\"not greater\")"
   ]
  },
  {
   "cell_type": "markdown",
   "metadata": {},
   "source": [
    "## challenge"
   ]
  },
  {
   "cell_type": "code",
   "execution_count": 6,
   "metadata": {},
   "outputs": [
    {
     "name": "stdout",
     "output_type": "stream",
     "text": [
      "input a score value:5\n",
      "input a score value:4\n",
      "not greater\n"
     ]
    }
   ],
   "source": [
    "score1=int(input(\"input a score value:\"))\n",
    "score2=int(input(\"input a score value:\"))\n",
    "\n",
    "if(score1 + score2 > 100):\n",
    "    print(\"Invalid score. Please check the input.\")\n",
    "    \n",
    "else:\n",
    "    print(\"not greater\")"
   ]
  },
  {
   "cell_type": "markdown",
   "metadata": {},
   "source": [
    "## More on if else"
   ]
  },
  {
   "cell_type": "code",
   "execution_count": 8,
   "metadata": {},
   "outputs": [
    {
     "name": "stdout",
     "output_type": "stream",
     "text": [
      "Invalid score. Please check the input.\n"
     ]
    }
   ],
   "source": [
    "score_a = 50\n",
    "score_b = 55\n",
    "if(score_a + score_b >= 100):\n",
    "    print(\"Invalid score. Please check the input.\")"
   ]
  },
  {
   "cell_type": "markdown",
   "metadata": {},
   "source": [
    "## challenge"
   ]
  },
  {
   "cell_type": "code",
   "execution_count": 9,
   "metadata": {},
   "outputs": [
    {
     "name": "stdout",
     "output_type": "stream",
     "text": [
      "input a score value:5\n",
      "input a score value:6\n",
      "Invalid score. Please check the input.\n"
     ]
    }
   ],
   "source": [
    "score_a=int(input(\"input a score value:\"))\n",
    "score_b=int(input(\"input a score value:\"))\n",
    "\n",
    "score_a = 50\n",
    "score_b = 55\n",
    "if(score_a + score_b >= 100):\n",
    "    print(\"Invalid score. Please check the input.\")\n",
    "\n"
   ]
  },
  {
   "cell_type": "markdown",
   "metadata": {},
   "source": [
    "## if else"
   ]
  },
  {
   "cell_type": "code",
   "execution_count": 4,
   "metadata": {},
   "outputs": [
    {
     "name": "stdout",
     "output_type": "stream",
     "text": [
      "Score validated. Your total is:  85\n"
     ]
    }
   ],
   "source": [
    "score_theory = 40\n",
    "score_practical = 45\n",
    "if(score_theory + score_practical > 100):\n",
    "    print(\"Please check the input. Score exceeds total possible score.\")\n",
    "else:\n",
    "    print(\"Score validated. Your total is: \", score_theory + score_practical)"
   ]
  },
  {
   "cell_type": "code",
   "execution_count": 5,
   "metadata": {},
   "outputs": [
    {
     "name": "stdout",
     "output_type": "stream",
     "text": [
      "Please check the input score for 'Theory'.\n"
     ]
    }
   ],
   "source": [
    "# Step 1\n",
    "score_theory = 60\n",
    "score_practical = 20\n",
    "\n",
    "if(score_theory > 50):\n",
    "    print(\"Please check the input score for 'Theory'.\") # Step 2.1\n",
    "elif(score_practical > 50):\n",
    "    print(\"Please check the input score for 'Practical'.\")  # Step 2.2\n",
    "else:\n",
    "    print(\"Score validated. Your total is: \",score_theory + score_practical) # Step 3"
   ]
  },
  {
   "cell_type": "markdown",
   "metadata": {},
   "source": []
  },
  {
   "cell_type": "code",
   "execution_count": 6,
   "metadata": {},
   "outputs": [
    {
     "name": "stdout",
     "output_type": "stream",
     "text": [
      "Please check the input score for 'Theory'.\n"
     ]
    }
   ],
   "source": [
    "score_theory = 60\n",
    "score_practical = 20\n",
    "\n",
    "if(score_theory > 50):\n",
    "    print(\"Please check the input score for 'Theory'.\")\n",
    "else:\n",
    "    if(score_practical > 50):\n",
    "        print(\"Please check the input score for 'Practical'.\")  \n",
    "    else:\n",
    "        print(\"Score validated. Your total is: \",score_theory + score_practical)\n"
   ]
  },
  {
   "cell_type": "markdown",
   "metadata": {},
   "source": [
    "## more on if else"
   ]
  },
  {
   "cell_type": "code",
   "execution_count": 7,
   "metadata": {},
   "outputs": [
    {
     "name": "stdout",
     "output_type": "stream",
     "text": [
      "Score validated for English. Your total is:  88\n"
     ]
    }
   ],
   "source": [
    "coursework = \"English\"\n",
    "score_theory = 53\n",
    "score_practical = 35\n",
    "\n",
    "if(coursework == \"Science\" or coursework == \"science\"):\n",
    "    if(score_theory > 50):\n",
    "        print(\"Please check the input score for 'Science: Theory'.\")\n",
    "    elif(score_practical > 50):\n",
    "            print(\"Please check the input score for 'Science: Practical'.\")  \n",
    "    else:\n",
    "        print(\"Score validated for Science. Your total is: \",score_theory + score_practical)             \n",
    "elif(coursework == \"English\" or coursework == \"english\"):\n",
    "    if(score_theory > 60):\n",
    "        print(\"Please check the input score for 'English: Theory'.\")\n",
    "    elif(score_practical > 40):\n",
    "            print(\"Please check the input score for 'English: Practical'.\")  \n",
    "    else:\n",
    "        print(\"Score validated for English. Your total is: \",score_theory + score_practical)\n",
    "else: print(\"Coursework not recognised. Please enter score for either Science or English.\")"
   ]
  },
  {
   "cell_type": "code",
   "execution_count": 8,
   "metadata": {},
   "outputs": [
    {
     "name": "stdout",
     "output_type": "stream",
     "text": [
      "Please check the input score for English.\n"
     ]
    }
   ],
   "source": [
    "coursework = \"English\"\n",
    "score_theory = 53\n",
    "score_practical = 78\n",
    "\n",
    "if(coursework == \"Science\" or coursework == \"science\"):\n",
    "    if(score_theory > 50 or score_practical > 50):\n",
    "        # Can't distinguish the error in Science: theory or Science: Practical\n",
    "        print(\"Please check the input score for Science.\")\n",
    "    else: print(\"Score validated for Science. Your total is: \",score_theory + score_practical)             \n",
    "elif(coursework == \"English\" or coursework == \"english\"):\n",
    "    if(score_theory > 60 or score_practical > 40):\n",
    "        # Can't distinguish the error in English: theory or English: Practical\n",
    "        print(\"Please check the input score for English.\")\n",
    "    else: print(\"Score validated for English. Your total is: \",score_theory + score_practical)\n",
    "else: print(\"Coursework not recognised. Please enter score for either Science or English.\")"
   ]
  },
  {
   "cell_type": "markdown",
   "metadata": {},
   "source": [
    "## if else"
   ]
  },
  {
   "cell_type": "code",
   "execution_count": 10,
   "metadata": {},
   "outputs": [
    {
     "name": "stdout",
     "output_type": "stream",
     "text": [
      "Please enter your name: zz\n",
      "How old are you, zz? 55\n",
      "I'm sorry, our holidays are only for seriously cool people\n"
     ]
    }
   ],
   "source": [
    "# Write a small program to ask for a name and an age.\n",
    "# When both values have been entered, check if the person\n",
    "# is the right age to go on an 18-30 holiday (they must be\n",
    "# over 18 and under 31).\n",
    "# If they are, welcome them to the holiday, otherwise print\n",
    "# a (polite) message refusing them entry.\n",
    "\n",
    "name = input(\"Please enter your name: \")\n",
    "age = int(input(\"How old are you, {0}? \".format(name)))\n",
    "\n",
    "# if 18 <= age < 31:\n",
    "if age >=18 and age <31:\n",
    "    print(\"Welcome to club 18-30 holidays, {0}\".format(name))\n",
    "else:\n",
    "    print(\"I'm sorry, our holidays are only for seriously cool people\")"
   ]
  },
  {
   "cell_type": "code",
   "execution_count": 11,
   "metadata": {},
   "outputs": [
    {
     "name": "stdout",
     "output_type": "stream",
     "text": [
      "Please enter your marks: 8\n",
      "You failed!!\n"
     ]
    }
   ],
   "source": [
    "# Write a small program to ask for exam mark\n",
    "# when value is over 84 print HD \n",
    "# when mark below 85 but over 74 print D\n",
    "# when mark below 75 but over 65 print CR\n",
    "    \n",
    "mark = int(input(\"Please enter your marks: \"))    \n",
    "\n",
    "if mark >= 85:\n",
    "  print (\"HD\")\n",
    "elif (mark >=75 and mark < 85):\n",
    "  print (\"D\")\n",
    "elif (mark >=65 and mark < 75):\n",
    "  print (\"CR\")\n",
    "elif (mark >=50 and mark < 65):\n",
    "  print (\"PASS\")\n",
    "else:\n",
    "  print(\"You failed!!\")"
   ]
  },
  {
   "cell_type": "code",
   "execution_count": null,
   "metadata": {},
   "outputs": [],
   "source": [
    "# Write a small program to ask for exam mark\n",
    "# when value is over 84 print HD \n",
    "# when mark below 85 but over 74 print D\n",
    "# when mark below 75 but over 65 print CR\n",
    "    \n",
    "mark = int(input(\"Please enter your marks: \"))    \n",
    "\n",
    "if ....\n",
    "....\n",
    "....\n",
    "....\n",
    "enter your code here"
   ]
  },
  {
   "cell_type": "markdown",
   "metadata": {},
   "source": [
    "# 6"
   ]
  },
  {
   "cell_type": "code",
   "execution_count": 1,
   "metadata": {},
   "outputs": [
    {
     "name": "stdout",
     "output_type": "stream",
     "text": [
      "Your integer is odd\n"
     ]
    }
   ],
   "source": [
    "num = 3\n",
    "if num % 2 == 0:\n",
    "    print(\"Your integer is even\")\n",
    "else: \n",
    "    print(\"Your integer is odd\")"
   ]
  },
  {
   "cell_type": "markdown",
   "metadata": {},
   "source": [
    "# 7"
   ]
  },
  {
   "cell_type": "code",
   "execution_count": 3,
   "metadata": {},
   "outputs": [
    {
     "name": "stdout",
     "output_type": "stream",
     "text": [
      "how many  ?5\n",
      "25.3\n"
     ]
    }
   ],
   "source": [
    "each_page=.10\n",
    "back_cover=10\n",
    "front_cover=15\n",
    "\n",
    "number_page=int(input(\"how many  ?\"))\n",
    "cost=(number_page-2)*.1+25\n",
    "print(cost)"
   ]
  },
  {
   "cell_type": "markdown",
   "metadata": {},
   "source": [
    "# 8"
   ]
  },
  {
   "cell_type": "code",
   "execution_count": 6,
   "metadata": {},
   "outputs": [
    {
     "name": "stdout",
     "output_type": "stream",
     "text": [
      "how many liters ?5\n",
      "bill is 6.05\n"
     ]
    }
   ],
   "source": [
    "amount=int(input(\"how many liters ?\"))\n",
    "bill=amount*1.1\n",
    "\n",
    "bill=bill+bill*.1\n",
    "print(\"bill is\", bill)"
   ]
  },
  {
   "cell_type": "markdown",
   "metadata": {},
   "source": [
    "# 9"
   ]
  },
  {
   "cell_type": "code",
   "execution_count": 31,
   "metadata": {},
   "outputs": [
    {
     "name": "stdout",
     "output_type": "stream",
     "text": [
      "11\n"
     ]
    }
   ],
   "source": [
    "import random\n",
    "print (random.randint(0, 50))"
   ]
  },
  {
   "cell_type": "code",
   "execution_count": null,
   "metadata": {},
   "outputs": [],
   "source": []
  },
  {
   "cell_type": "code",
   "execution_count": 42,
   "metadata": {},
   "outputs": [
    {
     "name": "stdout",
     "output_type": "stream",
     "text": [
      "70\n",
      "80\n",
      "5\n"
     ]
    }
   ],
   "source": [
    "import random\n",
    "for i in range(3):\n",
    "    print (random.randrange(0, 101, 5))"
   ]
  },
  {
   "cell_type": "code",
   "execution_count": 63,
   "metadata": {},
   "outputs": [
    {
     "name": "stdout",
     "output_type": "stream",
     "text": [
      "0.2550690257394217\n",
      "0.13436424411240122 0.8474337369372327 0.763774618976614\n"
     ]
    }
   ],
   "source": [
    "\n",
    "# seed the pseudorandom number generator\n",
    "from random import seed\n",
    "from random import random\n",
    "# seed random number generator\n",
    "\n",
    "# generate some random numbers\n",
    "print(random())\n",
    "# reset the seed\n",
    "seed(1)\n",
    "# generate some random numbers\n",
    "print(random(), random(), random())"
   ]
  },
  {
   "cell_type": "code",
   "execution_count": 93,
   "metadata": {},
   "outputs": [
    {
     "name": "stdout",
     "output_type": "stream",
     "text": [
      "A random number from list is : 10\n",
      "A random number from range is : 47\n"
     ]
    }
   ],
   "source": [
    "import random \n",
    "  \n",
    "# using choice() to generate a random number from a  \n",
    "# given list of numbers. \n",
    "print (\"A random number from list is : \",end=\"\") \n",
    "print (random.choice([1, 4, 8, 10, 3])) \n",
    "  \n",
    "# using randrange() to generate in range from 20 \n",
    "# to 50. \n",
    "\n",
    "print (\"A random number from range is : \",end=\"\") \n",
    "print (random.randrange(20, 50)) \n"
   ]
  },
  {
   "cell_type": "markdown",
   "metadata": {},
   "source": [
    "# 12"
   ]
  },
  {
   "cell_type": "code",
   "execution_count": 134,
   "metadata": {},
   "outputs": [
    {
     "name": "stdout",
     "output_type": "stream",
     "text": [
      "A random number between 0 and 1 is : 0.45913173191066836\n"
     ]
    }
   ],
   "source": [
    "import random \n",
    "  \n",
    "# using random() to generate a random number \n",
    "# between 0 and 1 \n",
    "print (\"A random number between 0 and 1 is : \", end=\"\") \n",
    "print (random.random()) "
   ]
  },
  {
   "cell_type": "code",
   "execution_count": null,
   "metadata": {},
   "outputs": [],
   "source": []
  },
  {
   "cell_type": "code",
   "execution_count": 150,
   "metadata": {},
   "outputs": [
    {
     "name": "stdout",
     "output_type": "stream",
     "text": [
      "7\n",
      "0\n"
     ]
    }
   ],
   "source": [
    "import random\n",
    "print(random.randint(0,9))\n",
    "print(random.randrange(0,9))"
   ]
  },
  {
   "cell_type": "markdown",
   "metadata": {},
   "source": [
    "# 13"
   ]
  },
  {
   "cell_type": "code",
   "execution_count": 184,
   "metadata": {},
   "outputs": [
    {
     "name": "stdout",
     "output_type": "stream",
     "text": [
      "my number is   8\n",
      "my guess is less\n",
      "because computer generated number is : 79\n"
     ]
    }
   ],
   "source": [
    "#print (\"A random number from range is : \" , end=\"\") \n",
    "#print (random.randrange(20, 50)) \n",
    "\n",
    "computer=random.randrange(0, 100)\n",
    "#print(computer)\n",
    "\n",
    "mynumber=int(input(\"my number is   \"))\n",
    "\n",
    "if computer>mynumber:\n",
    "    print(\"my guess is less\")\n",
    "    \n",
    "else:\n",
    "     print(\"my guess is over\")\n",
    "        \n",
    "print(\"because computer generated number is :\",computer)\n"
   ]
  },
  {
   "cell_type": "markdown",
   "metadata": {},
   "source": [
    "# 9"
   ]
  },
  {
   "cell_type": "code",
   "execution_count": null,
   "metadata": {},
   "outputs": [],
   "source": [
    "# In this program, \n",
    "# we check if the number is positive or\n",
    "# negative or zero and \n",
    "# display an appropriate message\n",
    "\n",
    "num=int(input(\"enter the number  :\"))\n",
    "\n",
    "\n",
    "if num > 0:\n",
    "    print(\"Positive number\")\n",
    "elif num == 0:\n",
    "    print(\"Zero\")\n",
    "else:\n",
    "    print(\"Negative number\")"
   ]
  },
  {
   "cell_type": "markdown",
   "metadata": {},
   "source": [
    "# 10"
   ]
  },
  {
   "cell_type": "code",
   "execution_count": 17,
   "metadata": {},
   "outputs": [
    {
     "name": "stdout",
     "output_type": "stream",
     "text": [
      "2010\n",
      "not\n"
     ]
    }
   ],
   "source": [
    "year=int(input())\n",
    "remain=year%4\n",
    "if remain==0:\n",
    "    print(\"Leaf year\")\n",
    "    \n",
    "else:\n",
    "    print(\"not\")"
   ]
  },
  {
   "cell_type": "markdown",
   "metadata": {},
   "source": [
    "# 11"
   ]
  },
  {
   "cell_type": "code",
   "execution_count": 21,
   "metadata": {},
   "outputs": [
    {
     "name": "stdout",
     "output_type": "stream",
     "text": [
      "999\n",
      "Fizz\n"
     ]
    }
   ],
   "source": [
    "num=int(input())\n",
    "if num % 3 == 0 and num % 5 == 0:\n",
    "    print('FizzBuzz')\n",
    "elif num % 3 == 0:\n",
    "    print('Fizz')\n",
    "elif num % 5 == 0:\n",
    "    print('Buzz')\n",
    "else:\n",
    "    print(str(num))"
   ]
  }
 ],
 "metadata": {
  "kernelspec": {
   "display_name": "Python 3",
   "language": "python",
   "name": "python3"
  },
  "language_info": {
   "codemirror_mode": {
    "name": "ipython",
    "version": 3
   },
   "file_extension": ".py",
   "mimetype": "text/x-python",
   "name": "python",
   "nbconvert_exporter": "python",
   "pygments_lexer": "ipython3",
   "version": "3.7.3"
  }
 },
 "nbformat": 4,
 "nbformat_minor": 2
}
