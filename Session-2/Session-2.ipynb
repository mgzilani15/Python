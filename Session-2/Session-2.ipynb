{
 "cells": [
  {
   "cell_type": "markdown",
   "metadata": {},
   "source": [
    "### Get the input from Keyboard"
   ]
  },
  {
   "cell_type": "code",
   "execution_count": 2,
   "metadata": {},
   "outputs": [
    {
     "name": "stdout",
     "output_type": "stream",
     "text": [
      "input a score value:56\n"
     ]
    }
   ],
   "source": [
    "number1=int(input(\"input a score value:\"))"
   ]
  },
  {
   "cell_type": "code",
   "execution_count": 3,
   "metadata": {},
   "outputs": [
    {
     "name": "stdout",
     "output_type": "stream",
     "text": [
      " enter something:55\n"
     ]
    }
   ],
   "source": [
    "number1=int(input(\" enter something:\"))"
   ]
  },
  {
   "cell_type": "markdown",
   "metadata": {},
   "source": [
    "## if else statement"
   ]
  },
  {
   "cell_type": "code",
   "execution_count": 4,
   "metadata": {},
   "outputs": [
    {
     "name": "stdout",
     "output_type": "stream",
     "text": [
      "not greater\n"
     ]
    }
   ],
   "source": [
    "# Two number adding and use with if-else\n",
    "\n",
    "score1 = 40\n",
    "score2 = 45\n",
    "\n",
    "if(score1 + score2 > 100):\n",
    "    print(\"Invalid score. Please check the input.\")\n",
    "    \n",
    "else:\n",
    "    print(\"not greater\")"
   ]
  },
  {
   "cell_type": "markdown",
   "metadata": {},
   "source": [
    "## Problem-1"
   ]
  },
  {
   "cell_type": "code",
   "execution_count": 8,
   "metadata": {},
   "outputs": [
    {
     "name": "stdout",
     "output_type": "stream",
     "text": [
      "input a score value:20\n",
      "input a score value:30\n",
      "not greater\n"
     ]
    }
   ],
   "source": [
    "#Read your name from the keyboard input\n",
    "#and , display it. Mention the data type:\n",
    "#hints the data type can be\n",
    "#int/string/double/list/dictionary.\n",
    "#Which one do u think?\n",
    "\n",
    "score1=int(input(\"input a score value:\"))\n",
    "\n",
    "score2=int(input(\"input a score value:\"))\n",
    "\n",
    "if(score1 + score2 > 100):\n",
    "    print(\"Invalid score. Please check the input.\")\n",
    "    \n",
    "else:\n",
    "    print(\"not greater\")"
   ]
  },
  {
   "cell_type": "markdown",
   "metadata": {},
   "source": [
    "## Problem-2"
   ]
  },
  {
   "cell_type": "code",
   "execution_count": 12,
   "metadata": {},
   "outputs": [],
   "source": [
    "# Add another elif and else statement\n",
    "\n",
    "score_a = 50\n",
    "score_b = 55\n",
    "\n",
    "if(score_a + score_b <= 50):\n",
    "    print(\"Invalid score. Please check the input.\")"
   ]
  },
  {
   "cell_type": "markdown",
   "metadata": {},
   "source": [
    "## Problem-3"
   ]
  },
  {
   "cell_type": "code",
   "execution_count": null,
   "metadata": {},
   "outputs": [],
   "source": [
    "# get two number from the key board, and use inthe if statement\n",
    "\n",
    "score_a=int(input(\"input a score value:\"))\n",
    "score_b=int(input(\"input a score value:\"))\n",
    "\n",
    "if(score_a + score_b >= 100):\n",
    "    print(\"Invalid score. Please check the input.\")\n",
    "else:\n",
    "    print('Less then 100')\n",
    "\n"
   ]
  },
  {
   "cell_type": "markdown",
   "metadata": {},
   "source": [
    "## Some Example"
   ]
  },
  {
   "cell_type": "code",
   "execution_count": null,
   "metadata": {},
   "outputs": [],
   "source": [
    "score_theory = 40\n",
    "score_practical = 45\n",
    "\n",
    "if(score_theory + score_practical > 100):\n",
    "    print(\"Please check the input. Score exceeds total possible score.\")\n",
    "else:\n",
    "    print(\"Score validated. Your total is: \", score_theory + score_practical)"
   ]
  },
  {
   "cell_type": "code",
   "execution_count": null,
   "metadata": {},
   "outputs": [],
   "source": [
    "# Nested If else\n",
    "\n",
    "score_theory = 60\n",
    "score_practical = 20\n",
    "\n",
    "if(score_theory > 50):\n",
    "    print(\"Please check the input score for 'Theory'.\")\n",
    "else:\n",
    "    if(score_practical > 50):\n",
    "        print(\"Please check the input score for 'Practical'.\")  \n",
    "    else:\n",
    "        print(\"Score validated. Your total is: \",score_theory + score_practical)\n"
   ]
  },
  {
   "cell_type": "markdown",
   "metadata": {},
   "source": [
    "## Problem-4"
   ]
  },
  {
   "cell_type": "code",
   "execution_count": 14,
   "metadata": {},
   "outputs": [
    {
     "name": "stdout",
     "output_type": "stream",
     "text": [
      "Please enter your name: 18\n",
      "How old are you, 18? 18\n",
      "Welcome to club 18-30 holidays, 18\n"
     ]
    }
   ],
   "source": [
    "# Write a small program to ask for a name and an age.\n",
    "# When both values have been entered, check if the person\n",
    "# is the right age to go on an 18-30 holiday (they must be\n",
    "# over 18 and under 31).\n",
    "\n",
    "# If they are, welcome them to the holiday, otherwise print\n",
    "\n",
    "# a (polite) message refusing them entry.\n",
    "\n",
    "name = input(\"Please enter your name: \")\n",
    "age = int(input(\"How old are you, {0}? \".format(name)))\n",
    "\n",
    "# if 18 <= age < 31:\n",
    "if age >=18 and age <31:\n",
    "    print(\"Welcome to club 18-30 holidays, {0}\".format(name))\n",
    "    \n",
    "else:\n",
    "    print(\"I'm sorry, our holidays are only for seriously cool people\")"
   ]
  },
  {
   "cell_type": "markdown",
   "metadata": {},
   "source": [
    "## Problem-5"
   ]
  },
  {
   "cell_type": "code",
   "execution_count": 16,
   "metadata": {},
   "outputs": [
    {
     "name": "stdout",
     "output_type": "stream",
     "text": [
      "Please enter your marks: 64\n",
      "PASS\n"
     ]
    }
   ],
   "source": [
    "# Write a small program to ask for exam mark\n",
    "# when value is over 84 print HD \n",
    "# when mark below 85 but over 74 print D\n",
    "# when mark below 75 but over 65 print CR\n",
    "    \n",
    "mark = int(input(\"Please enter your marks: \"))    \n",
    "\n",
    "if mark >= 85:\n",
    "  print (\"HD\")\n",
    "elif (mark >=75 and mark < 85):\n",
    "  print (\"D\")\n",
    "elif (mark >=65 and mark < 75):\n",
    "  print (\"CR\")\n",
    "elif (mark >=50 and mark < 65):\n",
    "  print (\"PASS\")\n",
    "else:\n",
    "  print(\"You failed!!\")"
   ]
  },
  {
   "cell_type": "markdown",
   "metadata": {},
   "source": [
    "## Problem-6"
   ]
  },
  {
   "cell_type": "code",
   "execution_count": 20,
   "metadata": {},
   "outputs": [
    {
     "name": "stdout",
     "output_type": "stream",
     "text": [
      "20\n",
      "Your integer is even\n"
     ]
    }
   ],
   "source": [
    "#Assign num to an integer value.\n",
    "#Write an if else combination that will print \"Your integer is even\" if the integer is even. Otherwise,\n",
    "#print \"Your integer is odd\".\n",
    "\n",
    "num = int(input(''))\n",
    "if num % 2 == 0:\n",
    "    print(\"Your integer is even\")\n",
    "else: \n",
    "    print(\"Your integer is odd\")"
   ]
  },
  {
   "cell_type": "markdown",
   "metadata": {},
   "source": [
    "## Problem-7"
   ]
  },
  {
   "cell_type": "code",
   "execution_count": null,
   "metadata": {},
   "outputs": [],
   "source": [
    "#Calculate and display cost of printing a book; given that each page costs 10 cents, back cover costs\n",
    "#$10.00 and front cover costs $15.00. Allow user to enter number of pages to\n",
    "\n",
    "\n",
    "each_page=.10\n",
    "back_cover=10\n",
    "front_cover=15\n",
    "\n",
    "number_page=int(input(\"how many  ?\"))\n",
    "cost=(number_page-2)*.1+25\n",
    "print(cost)"
   ]
  },
  {
   "cell_type": "markdown",
   "metadata": {},
   "source": [
    "# Problem-8"
   ]
  },
  {
   "cell_type": "code",
   "execution_count": null,
   "metadata": {},
   "outputs": [],
   "source": [
    "#Calculate and display the bill amount when user buys petrol @ 1.10 per litre. Allow user to enter\n",
    "#quantity of petrol purchased. Add GST as 10% of total cost. Bill amount is total cost + GST.\n",
    "\n",
    "amount=int(input(\"how many liters ?\"))\n",
    "bill=amount*1.1\n",
    "\n",
    "bill=bill+bill*.1\n",
    "print(\"bill is\", bill)"
   ]
  },
  {
   "cell_type": "markdown",
   "metadata": {},
   "source": [
    "# Problem-9"
   ]
  },
  {
   "cell_type": "code",
   "execution_count": null,
   "metadata": {},
   "outputs": [],
   "source": [
    "# print a random integer number between 0 and 50\n",
    "\n",
    "import random\n",
    "\n",
    "print (random.randint(0, 50))"
   ]
  },
  {
   "cell_type": "markdown",
   "metadata": {},
   "source": [
    "# Problem-10"
   ]
  },
  {
   "cell_type": "code",
   "execution_count": null,
   "metadata": {},
   "outputs": [],
   "source": [
    "# print 3 random integer number between 0 and 100\n",
    "\n",
    "import random\n",
    "\n",
    "for i in range(3):\n",
    "    print (random.randrange(0, 101))"
   ]
  },
  {
   "cell_type": "markdown",
   "metadata": {},
   "source": [
    "# Problem-11"
   ]
  },
  {
   "cell_type": "code",
   "execution_count": null,
   "metadata": {},
   "outputs": [],
   "source": [
    "# input a number and test it is less or more than a computer generated number\n",
    "\n",
    "computer=random.randrange(0, 100)\n",
    "#print(computer)\n",
    "\n",
    "mynumber=int(input(\"my number is   \"))\n",
    "\n",
    "if computer>mynumber:\n",
    "    print(\"my guess is less\")\n",
    "    \n",
    "else:\n",
    "     print(\"my guess is over\")\n",
    "        \n",
    "print(\"because computer generated number is :\",computer)\n"
   ]
  },
  {
   "cell_type": "markdown",
   "metadata": {},
   "source": [
    "# Problem-12"
   ]
  },
  {
   "cell_type": "code",
   "execution_count": null,
   "metadata": {},
   "outputs": [],
   "source": [
    "# In this program, \n",
    "# we check if the number is positive or\n",
    "# negative or zero and \n",
    "# display an appropriate message\n",
    "\n",
    "num=int(input(\"enter the number  :\"))\n",
    "\n",
    "\n",
    "if num > 0:\n",
    "    print(\"Positive number\")\n",
    "elif num == 0:\n",
    "    print(\"Zero\")\n",
    "else:\n",
    "    print(\"Negative number\")"
   ]
  },
  {
   "cell_type": "markdown",
   "metadata": {},
   "source": [
    "# Problem-13"
   ]
  },
  {
   "cell_type": "code",
   "execution_count": null,
   "metadata": {},
   "outputs": [],
   "source": [
    "#Allow the user to enter year number, check if it a leap year or not and\n",
    "#display an appropriate message.\n",
    "\n",
    "year=int(input())\n",
    "remain=year%4\n",
    "if remain==0:\n",
    "    print(\"Leaf year\")\n",
    "    \n",
    "else:\n",
    "    print(\"not\")"
   ]
  },
  {
   "cell_type": "markdown",
   "metadata": {},
   "source": [
    "# Problem-14"
   ]
  },
  {
   "cell_type": "code",
   "execution_count": null,
   "metadata": {},
   "outputs": [],
   "source": [
    "#Write a series of if,\n",
    "#elif , else statements that will print the num you assigned. But for multiples of\n",
    "#three print \"Fizz\" instead of the number and for the multiples of five print \"Buzz\". For numbers\n",
    "#which are multiples of both three and five print \" FizzBuzz\n",
    "\n",
    "\n",
    "num=int(input(\"Enter a number \"))\n",
    "if num % 3 == 0 and num % 5 == 0:\n",
    "    print('FizzBuzz')\n",
    "elif num % 3 == 0:\n",
    "    print('Fizz')\n",
    "elif num % 5 == 0:\n",
    "    print('Buzz')\n",
    "else:\n",
    "    print(str(num))"
   ]
  }
 ],
 "metadata": {
  "kernelspec": {
   "display_name": "Python 3",
   "language": "python",
   "name": "python3"
  },
  "language_info": {
   "codemirror_mode": {
    "name": "ipython",
    "version": 3
   },
   "file_extension": ".py",
   "mimetype": "text/x-python",
   "name": "python",
   "nbconvert_exporter": "python",
   "pygments_lexer": "ipython3",
   "version": "3.8.3"
  }
 },
 "nbformat": 4,
 "nbformat_minor": 2
}
